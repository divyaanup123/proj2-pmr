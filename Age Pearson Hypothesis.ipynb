{
 "cells": [
  {
   "cell_type": "code",
   "execution_count": 11,
   "id": "43a513bf-ab37-4cab-a8c4-a444a7d79ed0",
   "metadata": {},
   "outputs": [
    {
     "name": "stdout",
     "output_type": "stream",
     "text": [
      "F-statistic: -3.2212785002325485e-33\n",
      "P-value: nan\n",
      "Fail to reject null hypothesis: There is no significant evidence that the ethnic groups have different rates.\n"
     ]
    }
   ],
   "source": [
    "import pandas as pd\n",
    "from scipy.stats import f_oneway\n",
    "\n",
    "# Load the dataset\n",
    "filename = 'book1.csv'\n",
    "ethnicity_data = pd.read_csv(filename)\n",
    "\n",
    "# Convert necessary columns to numeric\n",
    "numeric_cols = ['Numerator', 'Denominator', 'Rate']\n",
    "ethnicity_data[numeric_cols] = ethnicity_data[numeric_cols].apply(pd.to_numeric, errors='coerce')\n",
    "\n",
    "# Extract data for different ethnicities\n",
    "hispanic = ethnicity_data.loc[ethnicity_data['Category'] == 'Race-Ethnicity', 'Rate'].dropna()\n",
    "multi_race = ethnicity_data.loc[ethnicity_data['Category'] == 'Race-Ethnicity', 'Rate'].dropna()\n",
    "black = ethnicity_data.loc[ethnicity_data['Category'] == 'Race-Ethnicity', 'Rate'].dropna()\n",
    "asian = ethnicity_data.loc[ethnicity_data['Category'] == 'Race-Ethnicity', 'Rate'].dropna()\n",
    "white = ethnicity_data.loc[ethnicity_data['Category'] == 'Race-Ethnicity', 'Rate'].dropna()\n",
    "\n",
    "# Perform one-way ANOVA\n",
    "f_statistic, p_value = f_oneway(hispanic, multi_race, black, asian, white)\n",
    "\n",
    "# Print results\n",
    "print(f\"F-statistic: {f_statistic}\")\n",
    "print(f\"P-value: {p_value}\")\n",
    "\n",
    "# Interpret the results\n",
    "alpha = 0.05\n",
    "if p_value < alpha:\n",
    "    print(\"Reject null hypothesis: There is significant evidence that at least one ethnic group has a different rate.\")\n",
    "else:\n",
    "    print(\"Fail to reject null hypothesis: There is no significant evidence that the ethnic groups have different rates.\")\n"
   ]
  },
  {
   "cell_type": "code",
   "execution_count": 13,
   "id": "0d73b37e-72dd-4115-8c7f-b8ca6a6bcfd8",
   "metadata": {},
   "outputs": [
    {
     "name": "stdout",
     "output_type": "stream",
     "text": [
      "F-statistic: 0.0\n",
      "P-value: 1.0\n",
      "Fail to reject null hypothesis: There is no significant evidence that the insurance categories have different rates.\n"
     ]
    }
   ],
   "source": [
    "import pandas as pd\n",
    "from scipy.stats import f_oneway\n",
    "\n",
    "# Load the dataset\n",
    "filename = 'book1.csv'\n",
    "insurance_data = pd.read_csv(filename)\n",
    "\n",
    "# Convert necessary columns to numeric\n",
    "numeric_cols = ['Numerator', 'Denominator', 'Rate']\n",
    "insurance_data[numeric_cols] = insurance_data[numeric_cols].apply(pd.to_numeric, errors='coerce')\n",
    "\n",
    "# Extract data for different insurance categories\n",
    "medi_cal = insurance_data.loc[insurance_data['Category'] == 'Health Insurance', 'Rate'].dropna()\n",
    "private = insurance_data.loc[insurance_data['Category'] == 'Health Insurance', 'Rate'].dropna()\n",
    "self_pay_uninsured = insurance_data.loc[insurance_data['Category'] == 'Health Insurance', 'Rate'].dropna()\n",
    "other_government = insurance_data.loc[insurance_data['Category'] == 'Health Insurance', 'Rate'].dropna()\n",
    "\n",
    "# Perform one-way ANOVA\n",
    "f_statistic, p_value = f_oneway(medi_cal, private, self_pay_uninsured, other_government)\n",
    "\n",
    "# Print results\n",
    "print(f\"F-statistic: {f_statistic}\")\n",
    "print(f\"P-value: {p_value}\")\n",
    "\n",
    "# Interpret the results\n",
    "alpha = 0.05\n",
    "if p_value < alpha:\n",
    "    print(\"Reject null hypothesis: There is significant evidence that at least one insurance category has a different rate.\")\n",
    "else:\n",
    "    print(\"Fail to reject null hypothesis: There is no significant evidence that the insurance categories have different rates.\")\n"
   ]
  },
  {
   "cell_type": "code",
   "execution_count": 17,
   "id": "e6871dfb-7a12-4441-8883-46d57c66e971",
   "metadata": {},
   "outputs": [
    {
     "name": "stdout",
     "output_type": "stream",
     "text": [
      "                      Indicator Name   Geography  \\\n",
      "0  Pregnancy-Related Mortality Ratio  California   \n",
      "1  Pregnancy-Related Mortality Ratio  California   \n",
      "2  Pregnancy-Related Mortality Ratio  California   \n",
      "3  Pregnancy-Related Mortality Ratio  California   \n",
      "4  Pregnancy-Related Mortality Ratio  California   \n",
      "\n",
      "                                     Region       Year          Category  \\\n",
      "0                                       NaN  2019-2021  Total Population   \n",
      "1                     North and Mid-Coastal  2019-2021  Total Population   \n",
      "2  Northeastern and Northern Central Valley  2019-2021  Total Population   \n",
      "3                   Southern Central Valley  2019-2021  Total Population   \n",
      "4     Los Angeles - Santa Barbara - Ventura  2019-2021  Total Population   \n",
      "\n",
      "        Subcategory Numerator  Denominator  Rate  \n",
      "0  Total population       226      1287679  17.6  \n",
      "1  Total population        38       261388  14.5  \n",
      "2  Total population        32       152418    21  \n",
      "3  Total population        40       147305  27.2  \n",
      "4  Total population        60       342919  17.5  \n"
     ]
    }
   ],
   "source": [
    "import pandas as pd\n",
    "from scipy import stats\n",
    "\n",
    "# Load the data from the CSV file\n",
    "df = pd.read_csv('Book1.csv')\n",
    "\n",
    "# Display the first few rows of the dataframe to understand its structure\n",
    "print(df.head())"
   ]
  },
  {
   "cell_type": "code",
   "execution_count": 19,
   "id": "3c696913-3783-4f7c-a073-f9bdf572c470",
   "metadata": {},
   "outputs": [
    {
     "name": "stdout",
     "output_type": "stream",
     "text": [
      "T-statistic: -inf\n",
      "P-value: 0.0\n",
      "Reject the null hypothesis: There is a significant difference between the means of the two samples.\n"
     ]
    },
    {
     "name": "stderr",
     "output_type": "stream",
     "text": [
      "C:\\Users\\s208305\\AppData\\Local\\anaconda3\\Lib\\site-packages\\scipy\\stats\\_axis_nan_policy.py:531: RuntimeWarning: Precision loss occurred in moment calculation due to catastrophic cancellation. This occurs when the data are nearly identical. Results may be unreliable.\n",
      "  res = hypotest_fun_out(*samples, **kwds)\n"
     ]
    }
   ],
   "source": [
    "# Extract the rates for the two regions\n",
    "sample1 = df[df['Region'] == 'North and Mid-Coastal']['Rate'].astype(float)\n",
    "sample2 = df[df['Region'] == 'Southern Central Valley']['Rate'].astype(float)\n",
    "\n",
    "# Perform the t-test\n",
    "t_stat, p_value = stats.ttest_ind(sample1, sample2)\n",
    "\n",
    "# Print the results\n",
    "print('T-statistic:', t_stat)\n",
    "print('P-value:', p_value)\n",
    "\n",
    "# Interpret the results\n",
    "alpha = 0.05  # Significance level\n",
    "if p_value < alpha:\n",
    "    print('Reject the null hypothesis: There is a significant difference between the means of the two samples.')\n",
    "else:\n",
    "    print('Fail to reject the null hypothesis: There is no significant difference between the means of the two samples.')"
   ]
  },
  {
   "cell_type": "code",
   "execution_count": 23,
   "id": "f78440f7-33d0-43ec-88cc-4f79cd585d53",
   "metadata": {},
   "outputs": [
    {
     "name": "stdout",
     "output_type": "stream",
     "text": [
      "Pearson correlation coefficient: 0.9694603141611813\n",
      "p-value: 0.03053968583881872\n",
      "Results written to correlation_results.txt\n"
     ]
    }
   ],
   "source": [
    "# Import necessary libraries\n",
    "import pandas as pd\n",
    "from scipy.stats import pearsonr\n",
    "\n",
    "# Load the data\n",
    "book1_df = pd.read_csv('Book1.csv')\n",
    "\n",
    "# Filter the data for the specified age groups\n",
    "age_groups = book1_df[book1_df['Category'] == 'Age']\n",
    "\n",
    "# Convert the 'Rate' column to numeric using .loc to avoid SettingWithCopyWarning\n",
    "age_groups.loc[:, 'Rate'] = pd.to_numeric(age_groups['Rate'], errors='coerce')\n",
    "\n",
    "# Remove rows with NaN values in 'Rate' and 'Subcategory'\n",
    "age_groups = age_groups.dropna(subset=['Rate', 'Subcategory'])\n",
    "\n",
    "# Map age groups to numerical values for correlation\n",
    "age_mapping = {'Under 20': 1, '20-24 years': 2, '25-29 years': 3, '30-34 years': 4, '35-39 years': 5, '40 and older': 6}\n",
    "age_groups.loc[:, 'Age_Numeric'] = age_groups['Subcategory'].map(age_mapping)\n",
    "\n",
    "# Remove rows with NaN values in 'Age_Numeric'\n",
    "age_groups = age_groups.dropna(subset=['Age_Numeric'])\n",
    "\n",
    "# Perform Pearson correlation\n",
    "correlation, p_value = pearsonr(age_groups['Age_Numeric'], age_groups['Rate'])\n",
    "\n",
    "# Print the results\n",
    "print('Pearson correlation coefficient:', correlation)\n",
    "print('p-value:', p_value)\n",
    "\n",
    "# Write the results to a text file with summary explanation\n",
    "with open('correlation_results.txt', 'w') as file:\n",
    "    file.write('Pearson correlation coefficient: ' + str(correlation) + '\\\n",
    "')\n",
    "    file.write('p-value: ' + str(p_value) + '\\\n",
    "')\n",
    "    file.write('\\\n",
    "Summary:\\\n",
    "')\n",
    "    file.write('The Pearson correlation coefficient of 0.969 indicates a very strong positive correlation between age and the rate.\\\n",
    "')\n",
    "    file.write('The p-value of 0.031 suggests that this correlation is statistically significant at the 5% significance level.\\\n",
    "')\n",
    "    file.write('This means that as age increases, the rate also tends to increase, and this relationship is statistically significant.')\n",
    "\n",
    "print('Results written to correlation_results.txt')"
   ]
  },
  {
   "cell_type": "code",
   "execution_count": null,
   "id": "e09bff08-9982-47f5-a17a-e0940b35796f",
   "metadata": {},
   "outputs": [],
   "source": []
  }
 ],
 "metadata": {
  "kernelspec": {
   "display_name": "Python 3 (ipykernel)",
   "language": "python",
   "name": "python3"
  },
  "language_info": {
   "codemirror_mode": {
    "name": "ipython",
    "version": 3
   },
   "file_extension": ".py",
   "mimetype": "text/x-python",
   "name": "python",
   "nbconvert_exporter": "python",
   "pygments_lexer": "ipython3",
   "version": "3.12.4"
  }
 },
 "nbformat": 4,
 "nbformat_minor": 5
}
